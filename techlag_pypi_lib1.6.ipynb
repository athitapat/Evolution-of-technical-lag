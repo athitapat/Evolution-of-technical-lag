{
 "cells": [
  {
   "cell_type": "markdown",
   "id": "b9763d01",
   "metadata": {},
   "source": [
    "# Technical lag in Pypi package manager\n",
    "        Replication study of paper 'Technical Lags of Dependencies in Major Package Managers'. this replication study only\n",
    "    Pypi package  manager with the recent dataset from library.io"
   ]
  },
  {
   "cell_type": "markdown",
   "id": "7abb301c",
   "metadata": {},
   "source": [
    "please change your FILE_PATH to your dataset path"
   ]
  },
  {
   "cell_type": "code",
   "execution_count": 1,
   "id": "153c4717",
   "metadata": {},
   "outputs": [],
   "source": [
    "import pandas as pd\n",
    "from enum import Enum\n",
    "from dataclasses import dataclass\n",
    "import semver\n",
    "import re\n",
    "from datetime import datetime\n",
    "import numpy as np\n",
    "import matplotlib.pyplot as plt\n",
    "import plotly.graph_objects as go\n",
    "from tabulate import tabulate\n",
    "import time\n",
    "\n",
    "\n",
    "FILE_PATH = ''\n",
    "Pypi_projects_file = 'pypi_projects-1.6.0.csv'\n",
    "Pypi_dependencies_file = 'pypi_dependencies-1.6.0_date.csv'\n",
    "Pypi_versions_file = 'pypi_versions-1.6.0.csv'"
   ]
  },
  {
   "cell_type": "markdown",
   "id": "3f1f4fbe",
   "metadata": {},
   "source": [
    "# List of project\n",
    "to check if dependency information exists?"
   ]
  },
  {
   "cell_type": "code",
   "execution_count": 2,
   "id": "052fcce8",
   "metadata": {},
   "outputs": [
    {
     "name": "stdout",
     "output_type": "stream",
     "text": [
      "Number of projects: 231690\n"
     ]
    }
   ],
   "source": [
    "projects = pd.read_csv(FILE_PATH + Pypi_projects_file, low_memory = False)\n",
    "projects_to_dict = projects.to_dict('records')\n",
    "projects_list = []\n",
    "for row in projects_to_dict:\n",
    "    projects_list.append(row['ID'])\n",
    "del projects_to_dict\n",
    "print('Number of projects:', projects.shape[0])\n",
    "# projects.head()"
   ]
  },
  {
   "cell_type": "markdown",
   "id": "ab22405b",
   "metadata": {},
   "source": [
    "# Filtering project pair\n",
    "    Project pair is the Project A has a dependency on Project B regardless of Project A version, can be classified as follow\n",
    "    Fixed - allow excatly version of dependency (all dependency of pair have fixed declaration)\n",
    "    Flexible - allow more than one version of dependency (some dependency of pair have flexible declaration)\n",
    "\n",
    "    Discard from analysis\n",
    "    Missing information \n",
    "    - some information such as Project ID, time stamp were not available \n",
    "    Sub-component \n",
    "    - a group of component (first half of name(minimum 4 characters) of  Project A and B are same) may cause inaccurate quantification of lag \n",
    "    Not Semantic version \n",
    "    - the version that couldn't be parse as Semantic version format, i.e major.minor.micro-tag, and the                              version with large number (maybe timestamp)    \n",
    "    \n",
    "    Note: some version number may mix with character can be parsed to semver format by the extract leading digit \n",
    "    - ex\n",
    "        0.0.7dev -> 0.0.7\n",
    "        4.5.10.15  -> 4.5.10"
   ]
  },
  {
   "cell_type": "code",
   "execution_count": 3,
   "id": "1be36ba1",
   "metadata": {},
   "outputs": [],
   "source": [
    "# Type of pair classification\n",
    "class Status(Enum):\n",
    "    FIXED = 1   \n",
    "    NOT_SV = 2  \n",
    "    FLEXI = 3   \n",
    "    SUBCMP = 4   \n",
    "    MISSING = 5   \n",
    "    \n",
    "@dataclass\n",
    "class ProjectVersion:\n",
    "    version: str; declaration: str; date_published: str\n",
    "                \n",
    "@dataclass\n",
    "class DependencyVersion:\n",
    "    version: str; date_published: str\n",
    "            \n",
    "@dataclass\n",
    "class Version:\n",
    "    version:str ; date_published:str = ''; major: int = 0; minor: int =0; micro: int = 0\n",
    "    def __post_init__(self):\n",
    "        v_tok = versionToken(self.version)\n",
    "        if len(v_tok) > 0:\n",
    "            self.major = v_tok[0]\n",
    "        if len(v_tok) > 1:\n",
    "            self.minor = v_tok[1]\n",
    "        if len(v_tok) >2:\n",
    "            self.micro = v_tok[2]\n",
    "    def semver(self):  #\n",
    "        return str(self.major) +'.'+ str(self.minor) +'.'+ str(self.micro)"
   ]
  },
  {
   "cell_type": "code",
   "execution_count": 4,
   "id": "7e916833",
   "metadata": {},
   "outputs": [],
   "source": [
    "# classify pair to Missing information  Subcomponent  and defult with Fixed\n",
    "def initPairTest(pair, proj_name, dep_name):\n",
    "    if pair[1] not in projects_list:\n",
    "        return Status.MISSING\n",
    "    first_half = min(len(proj_name)//2, len(dep_name)//2)\n",
    "    if (first_half > 3) and (proj_name[:first_half] == dep_name[:first_half]) or proj_name == dep_name or pair[0] == pair[1]:\n",
    "        return Status.SUBCMP\n",
    "    return Status.FIXED\n",
    "###\n",
    "\n",
    "def separateDeclaration(dec): #separate a symbol and version \n",
    "    index = 0\n",
    "    for c in dec:\n",
    "        if c>= '0' and c<='9':\n",
    "            break\n",
    "        elif c == '.':\n",
    "            return   dec[:index], '0'+dec[index:].strip()\n",
    "        index += 1\n",
    "    return dec[:index], dec[index:].strip()\n",
    "\n",
    "#return verion_token token[0] = major, token[1] = minor, token[2] = micro \n",
    "def versionToken(ver: str):\n",
    "    #trim the declaration symbol\n",
    "    decSymbol, v = separateDeclaration(ver)\n",
    "    v_tok = []\n",
    "    while(len(v)!=0):\n",
    "        digit = ''\n",
    "        for c in v:\n",
    "            if c >= '0' and c <= '9':\n",
    "                digit += c\n",
    "            else:\n",
    "                break\n",
    "        if digit != '':\n",
    "            v_tok.append(int(digit))\n",
    "        else:\n",
    "            break\n",
    "        v = v[len(digit)+1:]\n",
    "    return v_tok\n",
    "\n",
    "# check that ,is semver violate? (version number is large)\n",
    "def violateSemver(ver):\n",
    "    ver_tok = versionToken(ver)\n",
    "    for tok in ver_tok:\n",
    "        if tok > 10000:\n",
    "            return True\n",
    "    return len(ver_tok) < 1\n",
    "\n",
    "\n",
    "def declarationClassify(dec):\n",
    "    dec = dec.strip()\n",
    "    if re.match('\\*', dec):\n",
    "        return 'any'\n",
    "    elif re.match('(\\<|\\<\\=)\\s*(\\d.+|\\d)\\,(\\>\\=|\\>)\\s*(\\d.+|\\d)', dec):\n",
    "        return 'range'\n",
    "    elif re.match('(>)(=|)\\s*((\\d.+)|(\\d))',dec): \n",
    "        return 'atleast'\n",
    "    elif re.match('(<)(=|)\\s*((\\d.+)|(\\d))', dec):\n",
    "        return 'atmost'\n",
    "    elif re.match('(~=)\\s*((\\d.\\d.\\d))', dec):\n",
    "        return 'micro'\n",
    "    elif re.match('(~=)\\s*((\\d.\\d)|(\\d))', dec):\n",
    "        return 'minor'\n",
    "    elif re.match('(==|)\\s*((\\d.+)|(\\d))',dec) or re.match('\\s*((\\d.+)|\\d)', dec):\n",
    "        return 'fixed'\n",
    "    else:\n",
    "        return 'unclassified'\n",
    "    "
   ]
  },
  {
   "cell_type": "code",
   "execution_count": 5,
   "id": "39671542",
   "metadata": {},
   "outputs": [
    {
     "name": "stdout",
     "output_type": "stream",
     "text": [
      "total dependencies: 2018154\n"
     ]
    }
   ],
   "source": [
    "dependencies_df = pd.read_csv(FILE_PATH + Pypi_dependencies_file, \n",
    "                           usecols = ['Project ID', 'Version Number', 'Dependency Project ID', 'Dependency Requirements', 'Project Name', 'Dependency Name', 'Published Timestamp']\n",
    "                          )\n",
    "dependencies_df = dependencies_df.fillna(0).astype({'Dependency Project ID':int})#.set_index(['Project ID', 'Dependency Project ID']).sort_index()\n",
    "print('total dependencies:', dependencies_df.shape[0])"
   ]
  },
  {
   "cell_type": "code",
   "execution_count": 6,
   "id": "bdc93daa",
   "metadata": {},
   "outputs": [
    {
     "name": "stdout",
     "output_type": "stream",
     "text": [
      "time spend:  134.0901146 seconds\n"
     ]
    }
   ],
   "source": [
    "\n",
    "start = time.perf_counter()\n",
    "\n",
    "# deps_to_dict = dependencies.to_dict('records')\n",
    "check_NOT_SV = []\n",
    "pairs_status= {} # dict key =  (Project ID, Dependency ID) ; value = status\n",
    "# index = 0\n",
    "exclude_index = []\n",
    "# flexi_pair = []\n",
    "\n",
    "for index, dependency in enumerate(dependencies_df.to_dict('records')): \n",
    "    proj_id = dependency['Project ID']; dep_id = dependency['Dependency Project ID']  \n",
    "    proj_name = dependency['Project Name'];  proj_ver = dependency['Version Number']; dep_dec = dependency['Dependency Requirements']\n",
    "    dep_name = dependency['Dependency Name']\n",
    "    pair = (proj_id, dep_id)\n",
    "    status: Status\n",
    "\n",
    "    if (pair[0], pair[1]) in pairs_status:\n",
    "        status = pairs_status[(pair[0], pair[1])]\n",
    "    else:\n",
    "        status = initPairTest(pair, proj_name, dep_name) # MISSING SUBCMP  default FIXED\n",
    "\n",
    "\n",
    "    if status.value < Status.FLEXI.value: \n",
    "        if declarationClassify(dep_dec) != 'fixed':\n",
    "            status = Status.FLEXI\n",
    "        elif status == Status.FIXED and (violateSemver(proj_ver) or violateSemver(dep_dec)):\n",
    "            status = Status.NOT_SV\n",
    "            check_NOT_SV.append((pair, proj_name, proj_ver,dep_name, dep_dec))\n",
    "    # If one version of dependency have classify as subcomponent or missing we would not classify again    \n",
    "    pairs_status[(pair[0], pair[1])] = status\n",
    "#         if status == Status.FLEXI:\n",
    "#             flexi_index.append(index)\n",
    "    if status.value > Status.FLEXI.value or status == Status.NOT_SV:# MISSING SUBCMP NOT_SV will be removed from dataset\n",
    "        exclude_index.append(index)\n",
    "        \n",
    "    \n",
    "        \n",
    "# del deps_to_dict\n",
    "\n",
    "stop = time.perf_counter()\n",
    "print('time spend: ', stop-start, 'seconds')\n"
   ]
  },
  {
   "cell_type": "code",
   "execution_count": 7,
   "id": "8b5d6aef",
   "metadata": {},
   "outputs": [
    {
     "name": "stdout",
     "output_type": "stream",
     "text": [
      "Classification of Pair of project\n",
      "╒═════════╤═════════╤══════════╤══════════╤═══════════╕\n",
      "│   FIXED │   FLEXI │   NOT_SV │   SUBCMP │   MISSING │\n",
      "╞═════════╪═════════╪══════════╪══════════╪═══════════╡\n",
      "│   19455 │  125653 │      122 │     7459 │      1707 │\n",
      "╘═════════╧═════════╧══════════╧══════════╧═══════════╛\n"
     ]
    }
   ],
   "source": [
    "NOT_SV_pairs = []\n",
    "FIXED_pairs = []\n",
    "FLEXI_pairs = []\n",
    "SUBCMP_pairs = []\n",
    "MISSING_pairs = []\n",
    "\n",
    "for p in pairs_status:\n",
    "    status = pairs_status[p]\n",
    "    if status == Status.NOT_SV:\n",
    "        NOT_SV_pairs.append(p)\n",
    "    elif status == Status.FIXED:\n",
    "        FIXED_pairs.append(p)\n",
    "    elif status == Status.FLEXI:\n",
    "        FLEXI_pairs.append(p)\n",
    "    elif status == Status.SUBCMP:\n",
    "        SUBCMP_pairs.append(p)\n",
    "    elif status == Status.MISSING:\n",
    "        MISSING_pairs.append(p)\n",
    "\n",
    "print('Classification of Pair of project')\n",
    "print(tabulate([\n",
    "    ['FIXED', 'FLEXI', 'NOT_SV', 'SUBCMP','MISSING'],\n",
    "    [len(FIXED_pairs), len(FLEXI_pairs), len(NOT_SV_pairs), len(SUBCMP_pairs), len(MISSING_pairs)]\n",
    "],headers = 'firstrow', tablefmt = 'fancy_grid'))\n",
    "\n"
   ]
  },
  {
   "cell_type": "code",
   "execution_count": 8,
   "id": "a2ea30ee",
   "metadata": {},
   "outputs": [
    {
     "name": "stdout",
     "output_type": "stream",
     "text": [
      "dependencies after filtering:  1887689\n"
     ]
    }
   ],
   "source": [
    "dependencies_df.set_index(['Project ID', 'Dependency Project ID'], inplace = True)\n",
    "dependencies_df.drop( NOT_SV_pairs+SUBCMP_pairs+MISSING_pairs, axis = 0, inplace = True)\n",
    "dependencies_df.reset_index(inplace = True)\n",
    "print('dependencies after filtering: ', dependencies_df.shape[0])"
   ]
  },
  {
   "cell_type": "markdown",
   "id": "96eeaf99",
   "metadata": {},
   "source": [
    "# List of versions\n",
    "    a dictionary that contains list versions and published timestamp of each project\n",
    "    "
   ]
  },
  {
   "cell_type": "code",
   "execution_count": 9,
   "id": "feba6d8f",
   "metadata": {},
   "outputs": [
    {
     "data": {
      "text/html": [
       "<div>\n",
       "<style scoped>\n",
       "    .dataframe tbody tr th:only-of-type {\n",
       "        vertical-align: middle;\n",
       "    }\n",
       "\n",
       "    .dataframe tbody tr th {\n",
       "        vertical-align: top;\n",
       "    }\n",
       "\n",
       "    .dataframe thead th {\n",
       "        text-align: right;\n",
       "    }\n",
       "</style>\n",
       "<table border=\"1\" class=\"dataframe\">\n",
       "  <thead>\n",
       "    <tr style=\"text-align: right;\">\n",
       "      <th></th>\n",
       "      <th>Project ID</th>\n",
       "      <th>Number</th>\n",
       "      <th>Published Timestamp</th>\n",
       "    </tr>\n",
       "  </thead>\n",
       "  <tbody>\n",
       "    <tr>\n",
       "      <th>0</th>\n",
       "      <td>31611</td>\n",
       "      <td>1.0.0</td>\n",
       "      <td>2013-01-11 15:08:35 UTC</td>\n",
       "    </tr>\n",
       "    <tr>\n",
       "      <th>1</th>\n",
       "      <td>31612</td>\n",
       "      <td>0.1.0</td>\n",
       "      <td>2014-09-04 15:06:46 UTC</td>\n",
       "    </tr>\n",
       "    <tr>\n",
       "      <th>2</th>\n",
       "      <td>31612</td>\n",
       "      <td>1.0.0</td>\n",
       "      <td>2014-09-04 15:11:43 UTC</td>\n",
       "    </tr>\n",
       "    <tr>\n",
       "      <th>3</th>\n",
       "      <td>31613</td>\n",
       "      <td>0.1.2</td>\n",
       "      <td>2013-02-19 15:57:47 UTC</td>\n",
       "    </tr>\n",
       "    <tr>\n",
       "      <th>4</th>\n",
       "      <td>31613</td>\n",
       "      <td>0.1.3</td>\n",
       "      <td>2013-02-19 16:02:01 UTC</td>\n",
       "    </tr>\n",
       "  </tbody>\n",
       "</table>\n",
       "</div>"
      ],
      "text/plain": [
       "   Project ID Number      Published Timestamp\n",
       "0       31611  1.0.0  2013-01-11 15:08:35 UTC\n",
       "1       31612  0.1.0  2014-09-04 15:06:46 UTC\n",
       "2       31612  1.0.0  2014-09-04 15:11:43 UTC\n",
       "3       31613  0.1.2  2013-02-19 15:57:47 UTC\n",
       "4       31613  0.1.3  2013-02-19 16:02:01 UTC"
      ]
     },
     "execution_count": 9,
     "metadata": {},
     "output_type": "execute_result"
    }
   ],
   "source": [
    "\n",
    "#verlist = pd.read_sql('SELECT projectid, number, publishedtimestamp FROM versions', connect)\n",
    "verlist = pd.read_csv(FILE_PATH + Pypi_versions_file, usecols = ['Project ID', 'Number', 'Published Timestamp'])\n",
    "Verlist_dict = {}\n",
    "for r in verlist.to_dict('records'):\n",
    "    projid = r['Project ID']\n",
    "    if projid not in Verlist_dict:\n",
    "        Verlist_dict[projid] = []\n",
    "    Verlist_dict[projid].append(Version(r['Number'], r['Published Timestamp']))\n",
    "\n",
    "verlist.head()\n",
    " "
   ]
  },
  {
   "cell_type": "markdown",
   "id": "02187da5",
   "metadata": {},
   "source": [
    "# Quantification lag\n",
    "    in this study, lag identify to two types. version lag and time lag\n",
    "    Method \n",
    "    - choose the dependency versions available before Project was published\n",
    "    - sort dependency versions by descending\n",
    "    - collect the dependency versions that not satisfy with dependency declaration until found the satisfying dependency version\n",
    "    - now, we calculate a version lag categorize by major,minor, and micro version from the cpllection of not satisfying dependency version\n",
    "    - major version lag: the distinct major version later than satisfying dependency version\n",
    "    - minor version lag: the distinct minor version later than satisfying dependency version, and have same major version with satisfying dependency version\n",
    "    - micro version lag: the distinct micro version later than satisfying dependency version, and have same major, minor version with satisfying dependency version\n",
    "    \n",
    "    Example: \n",
    "       Project a has a dependency version 1.0.0, there are available version 1.0.1, 1.0.2, 1.1.0, 1.1.1, 2.0.0, 2.0.1, 2.1.0\n",
    "        major lag: 1 -> 2.0.0\n",
    "        minor lag: 1 -> 1.1.0\n",
    "        micro lag: 2 -> 1.0.1, 1.0.2\n",
    "    \n",
    "    \n",
    "    For time lag quantify by the period between the published time stamp of project and published timestamp of first newer version dependency\n",
    "    Example:\n",
    "        major time lag: -> published time stamp of Project - published time stamp of 2.0.0\n",
    "        minor time lag: -> published time stamp of Project - published time stamp of 1.1.0\n",
    "        micro time lag: -> published time stamp of Project - published time stamp of 1.0.1\n",
    "        \n",
    "    Historys of dependency have been counted\n",
    "    \n",
    "    And we classify type of lag into major, major&minor, major&micro, major&minor&micro, minor, minor & micro, and micro\n",
    "   "
   ]
  },
  {
   "cell_type": "code",
   "execution_count": 10,
   "id": "d26eafa2",
   "metadata": {},
   "outputs": [],
   "source": [
    "def declarationSemver(dec, dec_type): #return declaration following semver grammar for use in function semver.match\n",
    "    dec_symbol, dec_version = separateDeclaration(dec)\n",
    "    dec_semver = Version(dec_version.strip()).semver()\n",
    "    if dec_type == 'atmost' or dec_type == 'atleast':\n",
    "        return dec_symbol.strip() + dec_semver.strip()\n",
    "    elif dec_type == 'fixed':\n",
    "        if len(dec_symbol) == 0:\n",
    "            dec_symbol = '=='\n",
    "        return dec_symbol.strip() + dec_semver.strip()\n",
    "    elif dec_type == 'range':\n",
    "        decs = dec.split(',')\n",
    "        list_dec = []\n",
    "        for d in decs:\n",
    "            dec_symbol, dec_version = separateDeclaration(d)\n",
    "            dec_semver = Version(dec_version.strip()).semver()\n",
    "            list_dec.append(dec_symbol.strip() + dec_semver.strip())\n",
    "        return list_dec\n",
    "    elif dec_type == 'micro':\n",
    "        most = semver.bump_minor(dec_semver)\n",
    "        return ['>=' + dec_semver, '<'+ most]\n",
    "    elif dec_type == 'minor':\n",
    "        most = semver.bump_major(dec_semver)\n",
    "        return ['>=' + dec_semver, '<'+ most]\n",
    "    else:\n",
    "        return None\n",
    "\n",
    "def declarationMatch(dep_ver, dec, dec_type): #return bool that dependency version is satisfy the dependency declaration and classification\n",
    "    if dec_type == 'any':\n",
    "        return True\n",
    "    \n",
    "    dep_semver = Version(dep_ver).semver()\n",
    "    if dec_type == 'atmost' or dec_type == 'atleast':\n",
    "        return semver.match(dep_semver, dec)\n",
    "    elif dec_type == 'fixed':      \n",
    "        return semver.match(dep_semver, dec)        \n",
    "    elif dec_type == 'range':\n",
    "        is_match = True\n",
    "        for d in dec:\n",
    "            is_match &= semver.match(dep_semver, d)\n",
    "        return is_match\n",
    "    elif dec_type == 'micro':\n",
    "        is_match = True\n",
    "        for d in dec:\n",
    "            is_match &= semver.match(dep_semver, d)\n",
    "        return is_match\n",
    "    elif dec_type == 'minor':\n",
    "        is_match = True\n",
    "        for d in dec:\n",
    "            is_match &= semver.match(dep_semver, d)\n",
    "        return is_match\n",
    "    return False\n",
    "    \n",
    "def daylag(proj_date, min_miss_dep_date): # time in day duration of Project and the first newer dependencies\n",
    "    return(datetime.strptime(proj_date, '%Y-%m-%d %H:%M:%S UTC') - datetime.strptime(min_miss_dep_date, '%Y-%m-%d %H:%M:%S UTC')).days\n",
    "\n",
    "#Calculate technical lag major; minor; micro; Version   major; minor; micro; Time\n",
    "def lagCal(versions_not_match , version_match: DependencyVersion, proj: ProjectVersion):\n",
    "    lag = [0,0,0,0,0,0]\n",
    "    versions_not_match.sort(key= lambda x: (x.major, x.minor, x.micro))\n",
    "    major_miss = []\n",
    "    minor_miss = []\n",
    "    micro_miss = []\n",
    "    \n",
    "    Bdep = version_match\n",
    "    Bref = Version('0.0.0')\n",
    "    for ver in versions_not_match:\n",
    "        Bi = ver\n",
    "        if Bi.major == Bdep.major:\n",
    "            if Bi.minor == Bdep.minor and Bi.micro > Bref.micro:\n",
    "                micro_miss.append(ver)\n",
    "            elif Bi.minor > Bdep.minor and Bi.minor > Bref.minor:\n",
    "                minor_miss.append(ver)\n",
    "        elif Bi.major > Bdep.major and Bi.major > Bref.major:\n",
    "            major_miss.append(ver)\n",
    "        Bref = Bi\n",
    "    \n",
    "    major_miss_len = len(major_miss)\n",
    "    minor_miss_len = len(minor_miss)\n",
    "    micro_miss_len = len(micro_miss)\n",
    "    lag[0] = major_miss_len\n",
    "    lag[1] = minor_miss_len\n",
    "    lag[2] = micro_miss_len\n",
    "    if major_miss_len != 0:\n",
    "        lag[3] = daylag(proj.date_published, min(major_miss, key= lambda v: v.date_published).date_published)\n",
    "    if minor_miss_len != 0:\n",
    "        lag[4] = daylag(proj.date_published, min(minor_miss, key= lambda v: v.date_published).date_published)\n",
    "    if micro_miss_len != 0:\n",
    "        lag[5] = daylag(proj.date_published, min(micro_miss, key= lambda v: v.date_published).date_published)\n",
    "    \n",
    "    return tuple(lag)\n",
    "    \n",
    "    \n",
    "def classifyLag(lag):\n",
    "    res = ''\n",
    "    if lag[0] > 0:\n",
    "        res += 'MAJOR'\n",
    "    if lag[1] > 0:\n",
    "        res += 'MINOR'\n",
    "    if lag[2] > 0:\n",
    "        res += 'MICRO'\n",
    "    if len(res) >0:\n",
    "        return res\n",
    "    else:\n",
    "        return 'NOLAG'\n",
    "            "
   ]
  },
  {
   "cell_type": "code",
   "execution_count": 11,
   "id": "d56adac8",
   "metadata": {},
   "outputs": [
    {
     "name": "stdout",
     "output_type": "stream",
     "text": [
      "time spend: 243.12944199999998 seconds\n"
     ]
    }
   ],
   "source": [
    "start = time.perf_counter()\n",
    "lagType = [] #collect the lag type\n",
    "lags = [] #collect the lag value\n",
    "classifications = [] #collect the declaration classification\n",
    "\n",
    "for r in dependencies_df.to_dict('records'): # for each dependency\n",
    "    \n",
    "    pair = (r['Project ID'], r['Dependency Project ID'])\n",
    "    \n",
    "    \n",
    "    proj = ProjectVersion(r['Version Number'], r['Dependency Requirements'], r['Published Timestamp'])\n",
    "    classification = declarationClassify(proj.declaration)\n",
    "    try: \n",
    "        dep_histrory = Verlist_dict[pair[1]]\n",
    "    except: # some miss information of dependency in versions dataset \n",
    "        classification == 'unclassified'\n",
    "    \n",
    "    lag = (0,0,0,0,0,0)\n",
    "    # unclassification type will be removed\n",
    "    if classification == 'unclassified':\n",
    "        lagType.append(classification)\n",
    "        classifications.append(classification)\n",
    "        lags.append(lag)\n",
    "        continue    \n",
    "        \n",
    "    # dependency published before project  release    \n",
    "    published_deps = [d for d in dep_histrory if d.date_published < proj.date_published] \n",
    "    published_deps.sort(key = lambda x: (x.major, x.minor, x.micro), reverse = True) \n",
    "    \n",
    "    declaration = declarationSemver(proj.declaration, classification)\n",
    "    versions_not_match = []\n",
    "    version_match = None\n",
    "    lag_type ='NOLAG'            \n",
    "    for d in published_deps:\n",
    "        if declarationMatch(d.version, declaration, classification): # found the satisfying version then calculate lag \n",
    "            version_match = Version(d.version, d.date_published)\n",
    "            lag = lagCal(versions_not_match, version_match, proj)\n",
    "            lag_type = classifyLag(lag)            \n",
    "            break\n",
    "        else:\n",
    "            versions_not_match.append(d) # collect the version doesn't satisfy the declaration\n",
    "    \n",
    "    lags.append(lag)\n",
    "    lagType.append(lag_type)\n",
    "    classifications.append(classification)\n",
    "    \n",
    "\n",
    "\n",
    "stop  = time.perf_counter()\n",
    "print('time spend:', stop-start, 'seconds')\n",
    "    \n"
   ]
  },
  {
   "cell_type": "markdown",
   "id": "e8540a4d",
   "metadata": {},
   "source": [
    "Add declaration classifications, lag types , and lags to dataframe"
   ]
  },
  {
   "cell_type": "code",
   "execution_count": 12,
   "id": "429ec511",
   "metadata": {},
   "outputs": [
    {
     "name": "stdout",
     "output_type": "stream",
     "text": [
      "the remaining dependencies:  1887271\n"
     ]
    },
    {
     "data": {
      "text/html": [
       "<div>\n",
       "<style scoped>\n",
       "    .dataframe tbody tr th:only-of-type {\n",
       "        vertical-align: middle;\n",
       "    }\n",
       "\n",
       "    .dataframe tbody tr th {\n",
       "        vertical-align: top;\n",
       "    }\n",
       "\n",
       "    .dataframe thead th {\n",
       "        text-align: right;\n",
       "    }\n",
       "</style>\n",
       "<table border=\"1\" class=\"dataframe\">\n",
       "  <thead>\n",
       "    <tr style=\"text-align: right;\">\n",
       "      <th></th>\n",
       "      <th>Project ID</th>\n",
       "      <th>Dependency Project ID</th>\n",
       "      <th>Project Name</th>\n",
       "      <th>Version Number</th>\n",
       "      <th>Dependency Name</th>\n",
       "      <th>Dependency Requirements</th>\n",
       "      <th>Published Timestamp</th>\n",
       "      <th>classification</th>\n",
       "      <th>lagtype</th>\n",
       "      <th>majorlag</th>\n",
       "      <th>minorlag</th>\n",
       "      <th>microlag</th>\n",
       "      <th>majortimelag</th>\n",
       "      <th>minortimelag</th>\n",
       "      <th>microtimelag</th>\n",
       "    </tr>\n",
       "  </thead>\n",
       "  <tbody>\n",
       "    <tr>\n",
       "      <th>0</th>\n",
       "      <td>31613</td>\n",
       "      <td>68140</td>\n",
       "      <td>1pass</td>\n",
       "      <td>0.1.2</td>\n",
       "      <td>pycrypto</td>\n",
       "      <td>*</td>\n",
       "      <td>2013-02-19 15:57:47 UTC</td>\n",
       "      <td>any</td>\n",
       "      <td>NOLAG</td>\n",
       "      <td>0</td>\n",
       "      <td>0</td>\n",
       "      <td>0</td>\n",
       "      <td>0</td>\n",
       "      <td>0</td>\n",
       "      <td>0</td>\n",
       "    </tr>\n",
       "    <tr>\n",
       "      <th>1</th>\n",
       "      <td>31613</td>\n",
       "      <td>68140</td>\n",
       "      <td>1pass</td>\n",
       "      <td>0.1.3</td>\n",
       "      <td>PyCrypto</td>\n",
       "      <td>*</td>\n",
       "      <td>2013-02-19 16:02:01 UTC</td>\n",
       "      <td>any</td>\n",
       "      <td>NOLAG</td>\n",
       "      <td>0</td>\n",
       "      <td>0</td>\n",
       "      <td>0</td>\n",
       "      <td>0</td>\n",
       "      <td>0</td>\n",
       "      <td>0</td>\n",
       "    </tr>\n",
       "    <tr>\n",
       "      <th>2</th>\n",
       "      <td>31613</td>\n",
       "      <td>68140</td>\n",
       "      <td>1pass</td>\n",
       "      <td>0.1.5</td>\n",
       "      <td>PyCrypto</td>\n",
       "      <td>*</td>\n",
       "      <td>2013-03-03 18:21:08 UTC</td>\n",
       "      <td>any</td>\n",
       "      <td>NOLAG</td>\n",
       "      <td>0</td>\n",
       "      <td>0</td>\n",
       "      <td>0</td>\n",
       "      <td>0</td>\n",
       "      <td>0</td>\n",
       "      <td>0</td>\n",
       "    </tr>\n",
       "    <tr>\n",
       "      <th>3</th>\n",
       "      <td>31613</td>\n",
       "      <td>68140</td>\n",
       "      <td>1pass</td>\n",
       "      <td>0.1.6</td>\n",
       "      <td>PyCrypto</td>\n",
       "      <td>*</td>\n",
       "      <td>2013-03-21 06:36:41 UTC</td>\n",
       "      <td>any</td>\n",
       "      <td>NOLAG</td>\n",
       "      <td>0</td>\n",
       "      <td>0</td>\n",
       "      <td>0</td>\n",
       "      <td>0</td>\n",
       "      <td>0</td>\n",
       "      <td>0</td>\n",
       "    </tr>\n",
       "    <tr>\n",
       "      <th>4</th>\n",
       "      <td>31613</td>\n",
       "      <td>68140</td>\n",
       "      <td>1pass</td>\n",
       "      <td>0.1.7</td>\n",
       "      <td>PyCrypto</td>\n",
       "      <td>*</td>\n",
       "      <td>2013-04-17 06:26:16 UTC</td>\n",
       "      <td>any</td>\n",
       "      <td>NOLAG</td>\n",
       "      <td>0</td>\n",
       "      <td>0</td>\n",
       "      <td>0</td>\n",
       "      <td>0</td>\n",
       "      <td>0</td>\n",
       "      <td>0</td>\n",
       "    </tr>\n",
       "  </tbody>\n",
       "</table>\n",
       "</div>"
      ],
      "text/plain": [
       "   Project ID  Dependency Project ID Project Name Version Number  \\\n",
       "0       31613                  68140        1pass          0.1.2   \n",
       "1       31613                  68140        1pass          0.1.3   \n",
       "2       31613                  68140        1pass          0.1.5   \n",
       "3       31613                  68140        1pass          0.1.6   \n",
       "4       31613                  68140        1pass          0.1.7   \n",
       "\n",
       "  Dependency Name Dependency Requirements      Published Timestamp  \\\n",
       "0        pycrypto                       *  2013-02-19 15:57:47 UTC   \n",
       "1        PyCrypto                       *  2013-02-19 16:02:01 UTC   \n",
       "2        PyCrypto                       *  2013-03-03 18:21:08 UTC   \n",
       "3        PyCrypto                       *  2013-03-21 06:36:41 UTC   \n",
       "4        PyCrypto                       *  2013-04-17 06:26:16 UTC   \n",
       "\n",
       "  classification lagtype  majorlag  minorlag  microlag  majortimelag  \\\n",
       "0            any   NOLAG         0         0         0             0   \n",
       "1            any   NOLAG         0         0         0             0   \n",
       "2            any   NOLAG         0         0         0             0   \n",
       "3            any   NOLAG         0         0         0             0   \n",
       "4            any   NOLAG         0         0         0             0   \n",
       "\n",
       "   minortimelag  microtimelag  \n",
       "0             0             0  \n",
       "1             0             0  \n",
       "2             0             0  \n",
       "3             0             0  \n",
       "4             0             0  "
      ]
     },
     "execution_count": 12,
     "metadata": {},
     "output_type": "execute_result"
    }
   ],
   "source": [
    "dependencies_df['classification'] = classifications\n",
    "dependencies_df['lagtype'] = lagType\n",
    "dependencies_df['majorlag'] = [l[0] for l in lags]\n",
    "dependencies_df['minorlag'] = [l[1] for l in lags]\n",
    "dependencies_df['microlag'] = [l[2] for l in lags]\n",
    "dependencies_df['majortimelag'] = [l[3] for l in lags]\n",
    "dependencies_df['minortimelag'] = [l[4] for l in lags]\n",
    "dependencies_df['microtimelag'] = [l[5] for l in lags]\n",
    "\n",
    "dependencies_df = dependencies_df[dependencies_df['classification'] != 'unclassified' ]\n",
    "print('the remaining dependencies: ', dependencies_df.shape[0])\n",
    "dependencies_df.head()"
   ]
  },
  {
   "cell_type": "markdown",
   "id": "827c89b5",
   "metadata": {},
   "source": [
    "# Technical lag in version and time\n",
    "        model of technical lag catagorize by major, minor, and micro, a lag value 0 have been excluded, to show amount, \n",
    "    and prevalence of technical lag\n",
    "    "
   ]
  },
  {
   "cell_type": "code",
   "execution_count": 13,
   "id": "f7d1107b",
   "metadata": {},
   "outputs": [
    {
     "data": {
      "image/png": "[encoded data removed]",
      "text/plain": [
       "<Figure size 432x288 with 1 Axes>"
      ]
     },
     "metadata": {
      "needs_background": "light"
     },
     "output_type": "display_data"
    },
    {
     "data": {
      "image/png": "[encoded data removed]",
      "text/plain": [
       "<Figure size 432x288 with 1 Axes>"
      ]
     },
     "metadata": {
      "needs_background": "light"
     },
     "output_type": "display_data"
    }
   ],
   "source": [
    "plt.figure()\n",
    "color = ['red','orange', 'yellow']\n",
    "\n",
    "ver_lags_mean = [np.array([l[0] for l in lags if l[0] > 0]).mean(), \n",
    "                np.array([l[1] for l in lags if l[1] > 0]).mean(),\n",
    "                np.array([l[2] for l in lags if l[2] > 0]).mean()]\n",
    "ver_lag = ['major', 'minor', 'micro']\n",
    "ypos = np.arange(len(ver_lag))\n",
    "plt.xticks(ypos, ver_lag)\n",
    "plt.ylabel('number of versions')\n",
    "plt.title('mean of version lags in Pypi')\n",
    "plt.bar(ypos, ver_lags_mean, color = color, width = 0.4)\n",
    "for i, lag_mean in enumerate(ver_lags_mean):\n",
    "    plt.text(i, lag_mean, \"{:.2f}\".format(lag_mean), ha = 'center')\n",
    "\n",
    "plt.figure()\n",
    "time_lags_mean = [np.array([l[3] for l in lags if l[3] > 0]).mean(),\n",
    "                np.array([l[4] for l in lags if l[4] > 0]).mean(),\n",
    "                np.array([l[5] for l in lags if l[5] > 0]).mean()]\n",
    "time_lag = ['major time', 'minor time', 'micro time']\n",
    "ypost = np.arange(len(time_lag))\n",
    "plt.xticks(ypost, time_lag)\n",
    "plt.ylabel('number of days')\n",
    "plt.title('mean of day lags in Pypi')\n",
    "plt.bar(ypost, time_lags_mean, color = color, width = 0.4)\n",
    "for i, lag_mean in enumerate(time_lags_mean):\n",
    "    plt.text(i, lag_mean, \"{:.2f}\".format(lag_mean), ha = 'center')"
   ]
  },
  {
   "cell_type": "code",
   "execution_count": 14,
   "id": "1f23b324",
   "metadata": {},
   "outputs": [
    {
     "name": "stdout",
     "output_type": "stream",
     "text": [
      "Distribution of lag\n"
     ]
    },
    {
     "data": {
      "image/png": "[encoded data removed]",
      "text/plain": [
       "<Figure size 720x216 with 3 Axes>"
      ]
     },
     "metadata": {
      "needs_background": "light"
     },
     "output_type": "display_data"
    },
    {
     "data": {
      "image/png": "[encoded data removed]",
      "text/plain": [
       "<Figure size 720x216 with 3 Axes>"
      ]
     },
     "metadata": {
      "needs_background": "light"
     },
     "output_type": "display_data"
    }
   ],
   "source": [
    "print('Distribution of lag')\n",
    "fig, ax = plt.subplots(1,3, sharey = True, figsize = (10,3))\n",
    "\n",
    "ax[0].set_yscale('log')\n",
    "ax[0].set_ylabel('frequency')\n",
    "for i, v in enumerate(['major', 'minor', 'micro']):\n",
    "    ax[i].hist([l[0] for l in lags if l[i] > 0]) \n",
    "    ax[i].set_title(v)\n",
    "    ax[i].set_xlabel('version lag value')\n",
    "\n",
    "\n",
    "fig2, ax2 = plt.subplots(1,3, sharey = True, figsize = (10,3))\n",
    "ax2[0].set_yscale('log')\n",
    "ax2[0].set_ylabel('frequency')\n",
    "for i, v in enumerate(['major', 'minor', 'micro']):\n",
    "    ax2[i].hist([l[i+3] for l in lags if l[i+3] > 0])\n",
    "    ax2[i].set_xlabel('day lag value')\n",
    "\n",
    "plt.show()"
   ]
  },
  {
   "cell_type": "markdown",
   "id": "c27a6109",
   "metadata": {},
   "source": [
    "Typically, the lag is small amount. "
   ]
  },
  {
   "cell_type": "markdown",
   "id": "ca26348f",
   "metadata": {},
   "source": [
    "# Percentage of lag dependencies  \n",
    "        since the version range declaration is the main source of technical lag, we would consider Percentage of \n",
    "    dependencies that lag categorize by version range declaration."
   ]
  },
  {
   "cell_type": "code",
   "execution_count": 15,
   "id": "3bf21c2a",
   "metadata": {},
   "outputs": [
    {
     "name": "stdout",
     "output_type": "stream",
     "text": [
      " Percentage of dependencies that lag categorize by declaration \n",
      "╒═════════╤═════════╤═════════╤═══════════╤═════════╤═══════════╕\n",
      "│   Fixed │ Micro   │ Minor   │   At-Most │   Range │   Overall │\n",
      "╞═════════╪═════════╪═════════╪═══════════╪═════════╪═══════════╡\n",
      "│    49.7 │ -       │ -       │      58.4 │    26.6 │        45 │\n",
      "╘═════════╧═════════╧═════════╧═══════════╧═════════╧═══════════╛\n",
      "Any and At-least should not induce lag\n",
      "╒═══════╤════════════╕\n",
      "│   Any │   At-least │\n",
      "╞═══════╪════════════╡\n",
      "│     0 │          0 │\n",
      "╘═══════╧════════════╛\n"
     ]
    }
   ],
   "source": [
    "depslag = dependencies_df.groupby(['classification', 'lagtype' ]).count()['Project ID']\n",
    "dectype = ['fixed', 'micro', 'minor','atmost','range']\n",
    "print(' Percentage of dependencies that lag categorize by declaration ')\n",
    "print(tabulate([\n",
    "    ['Fixed', 'Micro', 'Minor', 'At-Most','Range', 'Overall'],\n",
    "    [\"{:.1f}\".format(depslag[dt].drop('NOLAG').sum()/depslag[dt].sum()*100) if dt in depslag else '-' for dt in dectype] \n",
    "     + [\"{:.1f}\".format(depslag.drop('NOLAG', level = 1).sum()/depslag.drop(['any', 'atleast']).sum()*100)]\n",
    "    \n",
    "],headers = 'firstrow', tablefmt = 'fancy_grid'))\n",
    "print('Any and At-least should not induce lag')\n",
    "print(tabulate([\n",
    "    ['Any', 'At-least'],\n",
    "    [\"{:.1f}\".format(depslag['any'].drop('NOLAG').sum()/depslag['any'].sum()*100),\n",
    "     \"{:.1f}\".format(depslag['atleast'].drop('NOLAG').sum()/depslag['atleast'].sum()*100)\n",
    "    ]\n",
    "],headers = 'firstrow', tablefmt = 'fancy_grid'))"
   ]
  },
  {
   "cell_type": "code",
   "execution_count": 16,
   "id": "902500b2",
   "metadata": {},
   "outputs": [
    {
     "data": {
      "image/png": "[encoded data removed]",
      "text/plain": [
       "<Figure size 432x288 with 1 Axes>"
      ]
     },
     "metadata": {},
     "output_type": "display_data"
    }
   ],
   "source": [
    "decla = dependencies_df.classification.value_counts()\n",
    "\n",
    "plt.pie([d for d in decla], labels = [dec for dec in decla.keys()], autopct = '%0.1f%%', radius = 2)\n",
    "plt.axis('equal')\n",
    "plt.title('Proportion of declaration used by Pypi')\n",
    "plt.tight_layout()\n",
    "\n",
    "plt.show()"
   ]
  },
  {
   "cell_type": "markdown",
   "id": "98da5bd2",
   "metadata": {},
   "source": [
    "fixed declaration is the main cause of inducing technical lag"
   ]
  },
  {
   "cell_type": "markdown",
   "id": "f035d3ca",
   "metadata": {},
   "source": [
    "# Proportion of type lag\n",
    "    \n"
   ]
  },
  {
   "cell_type": "code",
   "execution_count": 24,
   "id": "cd40c036",
   "metadata": {},
   "outputs": [
    {
     "data": {
      "application/vnd.plotly.v1+json": {
       "config": {
        "plotlyServerURL": "https://plot.ly"
       },
       "data": [
        {
         "branchvalues": "total",
         "labels": [
          "Total",
          "No lag",
          "Major lag",
          "Major",
          "Major & minor",
          "Major & micro",
          "Major & Minor & Micro",
          "Minor lag",
          "Minor",
          "Minor & Micro",
          "Micro lag",
          "Micro"
         ],
         "parents": [
          "",
          "Total",
          "Total",
          "Major lag",
          "Major lag",
          "Major lag",
          "Major lag",
          "Total",
          "Minor lag",
          "Minor lag",
          "Total",
          "Micro lag"
         ],
         "type": "sunburst",
         "values": [
          100.10000000000001,
          87.6,
          3.6,
          2,
          1,
          0.4,
          0.2,
          6.5,
          4.9,
          1.6,
          2.4,
          2.4
         ]
        }
       ],
       "layout": {
        "margin": {
         "b": 0,
         "l": 0,
         "r": 0,
         "t": 0
        },
        "template": {
         "data": {
          "bar": [
           {
            "error_x": {
             "color": "#2a3f5f"
            },
            "error_y": {
             "color": "#2a3f5f"
            },
            "marker": {
             "line": {
              "color": "#E5ECF6",
              "width": 0.5
             }
            },
            "type": "bar"
           }
          ],
          "barpolar": [
           {
            "marker": {
             "line": {
              "color": "#E5ECF6",
              "width": 0.5
             }
            },
            "type": "barpolar"
           }
          ],
          "carpet": [
           {
            "aaxis": {
             "endlinecolor": "#2a3f5f",
             "gridcolor": "white",
             "linecolor": "white",
             "minorgridcolor": "white",
             "startlinecolor": "#2a3f5f"
            },
            "baxis": {
             "endlinecolor": "#2a3f5f",
             "gridcolor": "white",
             "linecolor": "white",
             "minorgridcolor": "white",
             "startlinecolor": "#2a3f5f"
            },
            "type": "carpet"
           }
          ],
          "choropleth": [
           {
            "colorbar": {
             "outlinewidth": 0,
             "ticks": ""
            },
            "type": "choropleth"
           }
          ],
          "contour": [
           {
            "colorbar": {
             "outlinewidth": 0,
             "ticks": ""
            },
            "colorscale": [
             [
              0,
              "#0d0887"
             ],
             [
              0.1111111111111111,
              "#46039f"
             ],
             [
              0.2222222222222222,
              "#7201a8"
             ],
             [
              0.3333333333333333,
              "#9c179e"
             ],
             [
              0.4444444444444444,
              "#bd3786"
             ],
             [
              0.5555555555555556,
              "#d8576b"
             ],
             [
              0.6666666666666666,
              "#ed7953"
             ],
             [
              0.7777777777777778,
              "#fb9f3a"
             ],
             [
              0.8888888888888888,
              "#fdca26"
             ],
             [
              1,
              "#f0f921"
             ]
            ],
            "type": "contour"
           }
          ],
          "contourcarpet": [
           {
            "colorbar": {
             "outlinewidth": 0,
             "ticks": ""
            },
            "type": "contourcarpet"
           }
          ],
          "heatmap": [
           {
            "colorbar": {
             "outlinewidth": 0,
             "ticks": ""
            },
            "colorscale": [
             [
              0,
              "#0d0887"
             ],
             [
              0.1111111111111111,
              "#46039f"
             ],
             [
              0.2222222222222222,
              "#7201a8"
             ],
             [
              0.3333333333333333,
              "#9c179e"
             ],
             [
              0.4444444444444444,
              "#bd3786"
             ],
             [
              0.5555555555555556,
              "#d8576b"
             ],
             [
              0.6666666666666666,
              "#ed7953"
             ],
             [
              0.7777777777777778,
              "#fb9f3a"
             ],
             [
              0.8888888888888888,
              "#fdca26"
             ],
             [
              1,
              "#f0f921"
             ]
            ],
            "type": "heatmap"
           }
          ],
          "heatmapgl": [
           {
            "colorbar": {
             "outlinewidth": 0,
             "ticks": ""
            },
            "colorscale": [
             [
              0,
              "#0d0887"
             ],
             [
              0.1111111111111111,
              "#46039f"
             ],
             [
              0.2222222222222222,
              "#7201a8"
             ],
             [
              0.3333333333333333,
              "#9c179e"
             ],
             [
              0.4444444444444444,
              "#bd3786"
             ],
             [
              0.5555555555555556,
              "#d8576b"
             ],
             [
              0.6666666666666666,
              "#ed7953"
             ],
             [
              0.7777777777777778,
              "#fb9f3a"
             ],
             [
              0.8888888888888888,
              "#fdca26"
             ],
             [
              1,
              "#f0f921"
             ]
            ],
            "type": "heatmapgl"
           }
          ],
          "histogram": [
           {
            "marker": {
             "colorbar": {
              "outlinewidth": 0,
              "ticks": ""
             }
            },
            "type": "histogram"
           }
          ],
          "histogram2d": [
           {
            "colorbar": {
             "outlinewidth": 0,
             "ticks": ""
            },
            "colorscale": [
             [
              0,
              "#0d0887"
             ],
             [
              0.1111111111111111,
              "#46039f"
             ],
             [
              0.2222222222222222,
              "#7201a8"
             ],
             [
              0.3333333333333333,
              "#9c179e"
             ],
             [
              0.4444444444444444,
              "#bd3786"
             ],
             [
              0.5555555555555556,
              "#d8576b"
             ],
             [
              0.6666666666666666,
              "#ed7953"
             ],
             [
              0.7777777777777778,
              "#fb9f3a"
             ],
             [
              0.8888888888888888,
              "#fdca26"
             ],
             [
              1,
              "#f0f921"
             ]
            ],
            "type": "histogram2d"
           }
          ],
          "histogram2dcontour": [
           {
            "colorbar": {
             "outlinewidth": 0,
             "ticks": ""
            },
            "colorscale": [
             [
              0,
              "#0d0887"
             ],
             [
              0.1111111111111111,
              "#46039f"
             ],
             [
              0.2222222222222222,
              "#7201a8"
             ],
             [
              0.3333333333333333,
              "#9c179e"
             ],
             [
              0.4444444444444444,
              "#bd3786"
             ],
             [
              0.5555555555555556,
              "#d8576b"
             ],
             [
              0.6666666666666666,
              "#ed7953"
             ],
             [
              0.7777777777777778,
              "#fb9f3a"
             ],
             [
              0.8888888888888888,
              "#fdca26"
             ],
             [
              1,
              "#f0f921"
             ]
            ],
            "type": "histogram2dcontour"
           }
          ],
          "mesh3d": [
           {
            "colorbar": {
             "outlinewidth": 0,
             "ticks": ""
            },
            "type": "mesh3d"
           }
          ],
          "parcoords": [
           {
            "line": {
             "colorbar": {
              "outlinewidth": 0,
              "ticks": ""
             }
            },
            "type": "parcoords"
           }
          ],
          "pie": [
           {
            "automargin": true,
            "type": "pie"
           }
          ],
          "scatter": [
           {
            "marker": {
             "colorbar": {
              "outlinewidth": 0,
              "ticks": ""
             }
            },
            "type": "scatter"
           }
          ],
          "scatter3d": [
           {
            "line": {
             "colorbar": {
              "outlinewidth": 0,
              "ticks": ""
             }
            },
            "marker": {
             "colorbar": {
              "outlinewidth": 0,
              "ticks": ""
             }
            },
            "type": "scatter3d"
           }
          ],
          "scattercarpet": [
           {
            "marker": {
             "colorbar": {
              "outlinewidth": 0,
              "ticks": ""
             }
            },
            "type": "scattercarpet"
           }
          ],
          "scattergeo": [
           {
            "marker": {
             "colorbar": {
              "outlinewidth": 0,
              "ticks": ""
             }
            },
            "type": "scattergeo"
           }
          ],
          "scattergl": [
           {
            "marker": {
             "colorbar": {
              "outlinewidth": 0,
              "ticks": ""
             }
            },
            "type": "scattergl"
           }
          ],
          "scattermapbox": [
           {
            "marker": {
             "colorbar": {
              "outlinewidth": 0,
              "ticks": ""
             }
            },
            "type": "scattermapbox"
           }
          ],
          "scatterpolar": [
           {
            "marker": {
             "colorbar": {
              "outlinewidth": 0,
              "ticks": ""
             }
            },
            "type": "scatterpolar"
           }
          ],
          "scatterpolargl": [
           {
            "marker": {
             "colorbar": {
              "outlinewidth": 0,
              "ticks": ""
             }
            },
            "type": "scatterpolargl"
           }
          ],
          "scatterternary": [
           {
            "marker": {
             "colorbar": {
              "outlinewidth": 0,
              "ticks": ""
             }
            },
            "type": "scatterternary"
           }
          ],
          "surface": [
           {
            "colorbar": {
             "outlinewidth": 0,
             "ticks": ""
            },
            "colorscale": [
             [
              0,
              "#0d0887"
             ],
             [
              0.1111111111111111,
              "#46039f"
             ],
             [
              0.2222222222222222,
              "#7201a8"
             ],
             [
              0.3333333333333333,
              "#9c179e"
             ],
             [
              0.4444444444444444,
              "#bd3786"
             ],
             [
              0.5555555555555556,
              "#d8576b"
             ],
             [
              0.6666666666666666,
              "#ed7953"
             ],
             [
              0.7777777777777778,
              "#fb9f3a"
             ],
             [
              0.8888888888888888,
              "#fdca26"
             ],
             [
              1,
              "#f0f921"
             ]
            ],
            "type": "surface"
           }
          ],
          "table": [
           {
            "cells": {
             "fill": {
              "color": "#EBF0F8"
             },
             "line": {
              "color": "white"
             }
            },
            "header": {
             "fill": {
              "color": "#C8D4E3"
             },
             "line": {
              "color": "white"
             }
            },
            "type": "table"
           }
          ]
         },
         "layout": {
          "annotationdefaults": {
           "arrowcolor": "#2a3f5f",
           "arrowhead": 0,
           "arrowwidth": 1
          },
          "autotypenumbers": "strict",
          "coloraxis": {
           "colorbar": {
            "outlinewidth": 0,
            "ticks": ""
           }
          },
          "colorscale": {
           "diverging": [
            [
             0,
             "#8e0152"
            ],
            [
             0.1,
             "#c51b7d"
            ],
            [
             0.2,
             "#de77ae"
            ],
            [
             0.3,
             "#f1b6da"
            ],
            [
             0.4,
             "#fde0ef"
            ],
            [
             0.5,
             "#f7f7f7"
            ],
            [
             0.6,
             "#e6f5d0"
            ],
            [
             0.7,
             "#b8e186"
            ],
            [
             0.8,
             "#7fbc41"
            ],
            [
             0.9,
             "#4d9221"
            ],
            [
             1,
             "#276419"
            ]
           ],
           "sequential": [
            [
             0,
             "#0d0887"
            ],
            [
             0.1111111111111111,
             "#46039f"
            ],
            [
             0.2222222222222222,
             "#7201a8"
            ],
            [
             0.3333333333333333,
             "#9c179e"
            ],
            [
             0.4444444444444444,
             "#bd3786"
            ],
            [
             0.5555555555555556,
             "#d8576b"
            ],
            [
             0.6666666666666666,
             "#ed7953"
            ],
            [
             0.7777777777777778,
             "#fb9f3a"
            ],
            [
             0.8888888888888888,
             "#fdca26"
            ],
            [
             1,
             "#f0f921"
            ]
           ],
           "sequentialminus": [
            [
             0,
             "#0d0887"
            ],
            [
             0.1111111111111111,
             "#46039f"
            ],
            [
             0.2222222222222222,
             "#7201a8"
            ],
            [
             0.3333333333333333,
             "#9c179e"
            ],
            [
             0.4444444444444444,
             "#bd3786"
            ],
            [
             0.5555555555555556,
             "#d8576b"
            ],
            [
             0.6666666666666666,
             "#ed7953"
            ],
            [
             0.7777777777777778,
             "#fb9f3a"
            ],
            [
             0.8888888888888888,
             "#fdca26"
            ],
            [
             1,
             "#f0f921"
            ]
           ]
          },
          "colorway": [
           "#636efa",
           "#EF553B",
           "#00cc96",
           "#ab63fa",
           "#FFA15A",
           "#19d3f3",
           "#FF6692",
           "#B6E880",
           "#FF97FF",
           "#FECB52"
          ],
          "font": {
           "color": "#2a3f5f"
          },
          "geo": {
           "bgcolor": "white",
           "lakecolor": "white",
           "landcolor": "#E5ECF6",
           "showlakes": true,
           "showland": true,
           "subunitcolor": "white"
          },
          "hoverlabel": {
           "align": "left"
          },
          "hovermode": "closest",
          "mapbox": {
           "style": "light"
          },
          "paper_bgcolor": "white",
          "plot_bgcolor": "#E5ECF6",
          "polar": {
           "angularaxis": {
            "gridcolor": "white",
            "linecolor": "white",
            "ticks": ""
           },
           "bgcolor": "#E5ECF6",
           "radialaxis": {
            "gridcolor": "white",
            "linecolor": "white",
            "ticks": ""
           }
          },
          "scene": {
           "xaxis": {
            "backgroundcolor": "#E5ECF6",
            "gridcolor": "white",
            "gridwidth": 2,
            "linecolor": "white",
            "showbackground": true,
            "ticks": "",
            "zerolinecolor": "white"
           },
           "yaxis": {
            "backgroundcolor": "#E5ECF6",
            "gridcolor": "white",
            "gridwidth": 2,
            "linecolor": "white",
            "showbackground": true,
            "ticks": "",
            "zerolinecolor": "white"
           },
           "zaxis": {
            "backgroundcolor": "#E5ECF6",
            "gridcolor": "white",
            "gridwidth": 2,
            "linecolor": "white",
            "showbackground": true,
            "ticks": "",
            "zerolinecolor": "white"
           }
          },
          "shapedefaults": {
           "line": {
            "color": "#2a3f5f"
           }
          },
          "ternary": {
           "aaxis": {
            "gridcolor": "white",
            "linecolor": "white",
            "ticks": ""
           },
           "baxis": {
            "gridcolor": "white",
            "linecolor": "white",
            "ticks": ""
           },
           "bgcolor": "#E5ECF6",
           "caxis": {
            "gridcolor": "white",
            "linecolor": "white",
            "ticks": ""
           }
          },
          "title": {
           "x": 0.05
          },
          "xaxis": {
           "automargin": true,
           "gridcolor": "white",
           "linecolor": "white",
           "ticks": "",
           "title": {
            "standoff": 15
           },
           "zerolinecolor": "white",
           "zerolinewidth": 2
          },
          "yaxis": {
           "automargin": true,
           "gridcolor": "white",
           "linecolor": "white",
           "ticks": "",
           "title": {
            "standoff": 15
           },
           "zerolinecolor": "white",
           "zerolinewidth": 2
          }
         }
        }
       }
      },
      "text/html": [
       "<div>                            <div id=\"b2f2275c-807b-4507-8c5c-f50ae1ac51e2\" class=\"plotly-graph-div\" style=\"height:525px; width:100%;\"></div>            <script type=\"text/javascript\">                require([\"plotly\"], function(Plotly) {                    window.PLOTLYENV=window.PLOTLYENV || {};                                    if (document.getElementById(\"b2f2275c-807b-4507-8c5c-f50ae1ac51e2\")) {                    Plotly.newPlot(                        \"b2f2275c-807b-4507-8c5c-f50ae1ac51e2\",                        [{\"branchvalues\": \"total\", \"labels\": [\"Total\", \"No lag\", \"Major lag\", \"Major\", \"Major & minor\", \"Major & micro\", \"Major & Minor & Micro\", \"Minor lag\", \"Minor\", \"Minor & Micro\", \"Micro lag\", \"Micro\"], \"parents\": [\"\", \"Total\", \"Total\", \"Major lag\", \"Major lag\", \"Major lag\", \"Major lag\", \"Total\", \"Minor lag\", \"Minor lag\", \"Total\", \"Micro lag\"], \"type\": \"sunburst\", \"values\": [100.10000000000001, 87.6, 3.6, 2.0, 1.0, 0.4, 0.2, 6.5, 4.9, 1.6, 2.4, 2.4]}],                        {\"margin\": {\"b\": 0, \"l\": 0, \"r\": 0, \"t\": 0}, \"template\": {\"data\": {\"bar\": [{\"error_x\": {\"color\": \"#2a3f5f\"}, \"error_y\": {\"color\": \"#2a3f5f\"}, \"marker\": {\"line\": {\"color\": \"#E5ECF6\", \"width\": 0.5}}, \"type\": \"bar\"}], \"barpolar\": [{\"marker\": {\"line\": {\"color\": \"#E5ECF6\", \"width\": 0.5}}, \"type\": \"barpolar\"}], \"carpet\": [{\"aaxis\": {\"endlinecolor\": \"#2a3f5f\", \"gridcolor\": \"white\", \"linecolor\": \"white\", \"minorgridcolor\": \"white\", \"startlinecolor\": \"#2a3f5f\"}, \"baxis\": {\"endlinecolor\": \"#2a3f5f\", \"gridcolor\": \"white\", \"linecolor\": \"white\", \"minorgridcolor\": \"white\", \"startlinecolor\": \"#2a3f5f\"}, \"type\": \"carpet\"}], \"choropleth\": [{\"colorbar\": {\"outlinewidth\": 0, \"ticks\": \"\"}, \"type\": \"choropleth\"}], \"contour\": [{\"colorbar\": {\"outlinewidth\": 0, \"ticks\": \"\"}, \"colorscale\": [[0.0, \"#0d0887\"], [0.1111111111111111, \"#46039f\"], [0.2222222222222222, \"#7201a8\"], [0.3333333333333333, \"#9c179e\"], [0.4444444444444444, \"#bd3786\"], [0.5555555555555556, \"#d8576b\"], [0.6666666666666666, \"#ed7953\"], [0.7777777777777778, \"#fb9f3a\"], [0.8888888888888888, \"#fdca26\"], [1.0, \"#f0f921\"]], \"type\": \"contour\"}], \"contourcarpet\": [{\"colorbar\": {\"outlinewidth\": 0, \"ticks\": \"\"}, \"type\": \"contourcarpet\"}], \"heatmap\": [{\"colorbar\": {\"outlinewidth\": 0, \"ticks\": \"\"}, \"colorscale\": [[0.0, \"#0d0887\"], [0.1111111111111111, \"#46039f\"], [0.2222222222222222, \"#7201a8\"], [0.3333333333333333, \"#9c179e\"], [0.4444444444444444, \"#bd3786\"], [0.5555555555555556, \"#d8576b\"], [0.6666666666666666, \"#ed7953\"], [0.7777777777777778, \"#fb9f3a\"], [0.8888888888888888, \"#fdca26\"], [1.0, \"#f0f921\"]], \"type\": \"heatmap\"}], \"heatmapgl\": [{\"colorbar\": {\"outlinewidth\": 0, \"ticks\": \"\"}, \"colorscale\": [[0.0, \"#0d0887\"], [0.1111111111111111, \"#46039f\"], [0.2222222222222222, \"#7201a8\"], [0.3333333333333333, \"#9c179e\"], [0.4444444444444444, \"#bd3786\"], [0.5555555555555556, \"#d8576b\"], [0.6666666666666666, \"#ed7953\"], [0.7777777777777778, \"#fb9f3a\"], [0.8888888888888888, \"#fdca26\"], [1.0, \"#f0f921\"]], \"type\": \"heatmapgl\"}], \"histogram\": [{\"marker\": {\"colorbar\": {\"outlinewidth\": 0, \"ticks\": \"\"}}, \"type\": \"histogram\"}], \"histogram2d\": [{\"colorbar\": {\"outlinewidth\": 0, \"ticks\": \"\"}, \"colorscale\": [[0.0, \"#0d0887\"], [0.1111111111111111, \"#46039f\"], [0.2222222222222222, \"#7201a8\"], [0.3333333333333333, \"#9c179e\"], [0.4444444444444444, \"#bd3786\"], [0.5555555555555556, \"#d8576b\"], [0.6666666666666666, \"#ed7953\"], [0.7777777777777778, \"#fb9f3a\"], [0.8888888888888888, \"#fdca26\"], [1.0, \"#f0f921\"]], \"type\": \"histogram2d\"}], \"histogram2dcontour\": [{\"colorbar\": {\"outlinewidth\": 0, \"ticks\": \"\"}, \"colorscale\": [[0.0, \"#0d0887\"], [0.1111111111111111, \"#46039f\"], [0.2222222222222222, \"#7201a8\"], [0.3333333333333333, \"#9c179e\"], [0.4444444444444444, \"#bd3786\"], [0.5555555555555556, \"#d8576b\"], [0.6666666666666666, \"#ed7953\"], [0.7777777777777778, \"#fb9f3a\"], [0.8888888888888888, \"#fdca26\"], [1.0, \"#f0f921\"]], \"type\": \"histogram2dcontour\"}], \"mesh3d\": [{\"colorbar\": {\"outlinewidth\": 0, \"ticks\": \"\"}, \"type\": \"mesh3d\"}], \"parcoords\": [{\"line\": {\"colorbar\": {\"outlinewidth\": 0, \"ticks\": \"\"}}, \"type\": \"parcoords\"}], \"pie\": [{\"automargin\": true, \"type\": \"pie\"}], \"scatter\": [{\"marker\": {\"colorbar\": {\"outlinewidth\": 0, \"ticks\": \"\"}}, \"type\": \"scatter\"}], \"scatter3d\": [{\"line\": {\"colorbar\": {\"outlinewidth\": 0, \"ticks\": \"\"}}, \"marker\": {\"colorbar\": {\"outlinewidth\": 0, \"ticks\": \"\"}}, \"type\": \"scatter3d\"}], \"scattercarpet\": [{\"marker\": {\"colorbar\": {\"outlinewidth\": 0, \"ticks\": \"\"}}, \"type\": \"scattercarpet\"}], \"scattergeo\": [{\"marker\": {\"colorbar\": {\"outlinewidth\": 0, \"ticks\": \"\"}}, \"type\": \"scattergeo\"}], \"scattergl\": [{\"marker\": {\"colorbar\": {\"outlinewidth\": 0, \"ticks\": \"\"}}, \"type\": \"scattergl\"}], \"scattermapbox\": [{\"marker\": {\"colorbar\": {\"outlinewidth\": 0, \"ticks\": \"\"}}, \"type\": \"scattermapbox\"}], \"scatterpolar\": [{\"marker\": {\"colorbar\": {\"outlinewidth\": 0, \"ticks\": \"\"}}, \"type\": \"scatterpolar\"}], \"scatterpolargl\": [{\"marker\": {\"colorbar\": {\"outlinewidth\": 0, \"ticks\": \"\"}}, \"type\": \"scatterpolargl\"}], \"scatterternary\": [{\"marker\": {\"colorbar\": {\"outlinewidth\": 0, \"ticks\": \"\"}}, \"type\": \"scatterternary\"}], \"surface\": [{\"colorbar\": {\"outlinewidth\": 0, \"ticks\": \"\"}, \"colorscale\": [[0.0, \"#0d0887\"], [0.1111111111111111, \"#46039f\"], [0.2222222222222222, \"#7201a8\"], [0.3333333333333333, \"#9c179e\"], [0.4444444444444444, \"#bd3786\"], [0.5555555555555556, \"#d8576b\"], [0.6666666666666666, \"#ed7953\"], [0.7777777777777778, \"#fb9f3a\"], [0.8888888888888888, \"#fdca26\"], [1.0, \"#f0f921\"]], \"type\": \"surface\"}], \"table\": [{\"cells\": {\"fill\": {\"color\": \"#EBF0F8\"}, \"line\": {\"color\": \"white\"}}, \"header\": {\"fill\": {\"color\": \"#C8D4E3\"}, \"line\": {\"color\": \"white\"}}, \"type\": \"table\"}]}, \"layout\": {\"annotationdefaults\": {\"arrowcolor\": \"#2a3f5f\", \"arrowhead\": 0, \"arrowwidth\": 1}, \"autotypenumbers\": \"strict\", \"coloraxis\": {\"colorbar\": {\"outlinewidth\": 0, \"ticks\": \"\"}}, \"colorscale\": {\"diverging\": [[0, \"#8e0152\"], [0.1, \"#c51b7d\"], [0.2, \"#de77ae\"], [0.3, \"#f1b6da\"], [0.4, \"#fde0ef\"], [0.5, \"#f7f7f7\"], [0.6, \"#e6f5d0\"], [0.7, \"#b8e186\"], [0.8, \"#7fbc41\"], [0.9, \"#4d9221\"], [1, \"#276419\"]], \"sequential\": [[0.0, \"#0d0887\"], [0.1111111111111111, \"#46039f\"], [0.2222222222222222, \"#7201a8\"], [0.3333333333333333, \"#9c179e\"], [0.4444444444444444, \"#bd3786\"], [0.5555555555555556, \"#d8576b\"], [0.6666666666666666, \"#ed7953\"], [0.7777777777777778, \"#fb9f3a\"], [0.8888888888888888, \"#fdca26\"], [1.0, \"#f0f921\"]], \"sequentialminus\": [[0.0, \"#0d0887\"], [0.1111111111111111, \"#46039f\"], [0.2222222222222222, \"#7201a8\"], [0.3333333333333333, \"#9c179e\"], [0.4444444444444444, \"#bd3786\"], [0.5555555555555556, \"#d8576b\"], [0.6666666666666666, \"#ed7953\"], [0.7777777777777778, \"#fb9f3a\"], [0.8888888888888888, \"#fdca26\"], [1.0, \"#f0f921\"]]}, \"colorway\": [\"#636efa\", \"#EF553B\", \"#00cc96\", \"#ab63fa\", \"#FFA15A\", \"#19d3f3\", \"#FF6692\", \"#B6E880\", \"#FF97FF\", \"#FECB52\"], \"font\": {\"color\": \"#2a3f5f\"}, \"geo\": {\"bgcolor\": \"white\", \"lakecolor\": \"white\", \"landcolor\": \"#E5ECF6\", \"showlakes\": true, \"showland\": true, \"subunitcolor\": \"white\"}, \"hoverlabel\": {\"align\": \"left\"}, \"hovermode\": \"closest\", \"mapbox\": {\"style\": \"light\"}, \"paper_bgcolor\": \"white\", \"plot_bgcolor\": \"#E5ECF6\", \"polar\": {\"angularaxis\": {\"gridcolor\": \"white\", \"linecolor\": \"white\", \"ticks\": \"\"}, \"bgcolor\": \"#E5ECF6\", \"radialaxis\": {\"gridcolor\": \"white\", \"linecolor\": \"white\", \"ticks\": \"\"}}, \"scene\": {\"xaxis\": {\"backgroundcolor\": \"#E5ECF6\", \"gridcolor\": \"white\", \"gridwidth\": 2, \"linecolor\": \"white\", \"showbackground\": true, \"ticks\": \"\", \"zerolinecolor\": \"white\"}, \"yaxis\": {\"backgroundcolor\": \"#E5ECF6\", \"gridcolor\": \"white\", \"gridwidth\": 2, \"linecolor\": \"white\", \"showbackground\": true, \"ticks\": \"\", \"zerolinecolor\": \"white\"}, \"zaxis\": {\"backgroundcolor\": \"#E5ECF6\", \"gridcolor\": \"white\", \"gridwidth\": 2, \"linecolor\": \"white\", \"showbackground\": true, \"ticks\": \"\", \"zerolinecolor\": \"white\"}}, \"shapedefaults\": {\"line\": {\"color\": \"#2a3f5f\"}}, \"ternary\": {\"aaxis\": {\"gridcolor\": \"white\", \"linecolor\": \"white\", \"ticks\": \"\"}, \"baxis\": {\"gridcolor\": \"white\", \"linecolor\": \"white\", \"ticks\": \"\"}, \"bgcolor\": \"#E5ECF6\", \"caxis\": {\"gridcolor\": \"white\", \"linecolor\": \"white\", \"ticks\": \"\"}}, \"title\": {\"x\": 0.05}, \"xaxis\": {\"automargin\": true, \"gridcolor\": \"white\", \"linecolor\": \"white\", \"ticks\": \"\", \"title\": {\"standoff\": 15}, \"zerolinecolor\": \"white\", \"zerolinewidth\": 2}, \"yaxis\": {\"automargin\": true, \"gridcolor\": \"white\", \"linecolor\": \"white\", \"ticks\": \"\", \"title\": {\"standoff\": 15}, \"zerolinecolor\": \"white\", \"zerolinewidth\": 2}}}},                        {\"responsive\": true}                    ).then(function(){\n",
       "                            \n",
       "var gd = document.getElementById('b2f2275c-807b-4507-8c5c-f50ae1ac51e2');\n",
       "var x = new MutationObserver(function (mutations, observer) {{\n",
       "        var display = window.getComputedStyle(gd).display;\n",
       "        if (!display || display === 'none') {{\n",
       "            console.log([gd, 'removed!']);\n",
       "            Plotly.purge(gd);\n",
       "            observer.disconnect();\n",
       "        }}\n",
       "}});\n",
       "\n",
       "// Listen for the removal of the full notebook cells\n",
       "var notebookContainer = gd.closest('#notebook-container');\n",
       "if (notebookContainer) {{\n",
       "    x.observe(notebookContainer, {childList: true});\n",
       "}}\n",
       "\n",
       "// Listen for the clearing of the current output cell\n",
       "var outputEl = gd.closest('.output');\n",
       "if (outputEl) {{\n",
       "    x.observe(outputEl, {childList: true});\n",
       "}}\n",
       "\n",
       "                        })                };                });            </script>        </div>"
      ]
     },
     "metadata": {},
     "output_type": "display_data"
    }
   ],
   "source": [
    "lagtype = dependencies_df.lagtype.value_counts(normalize = True).mul(100).round(1)\n",
    "\n",
    "fig =go.Figure(go.Sunburst(\n",
    "    labels=['Total', 'No lag', 'Major lag', 'Major', 'Major & minor', 'Major & micro', 'Major & Minor & Micro', 'Minor lag', 'Minor',\n",
    "           'Minor & Micro', 'Micro lag', 'Micro'],\n",
    "    parents=['', 'Total', 'Total', 'Major lag', 'Major lag', 'Major lag', 'Major lag', 'Total', 'Minor lag', 'Minor lag', 'Total', 'Micro lag'],\n",
    "    values=[ lagtype.sum(), lagtype['NOLAG'], lagtype[['MAJOR', 'MAJORMINOR', 'MAJORMICRO', 'MAJORMINORMICRO']].sum(),\n",
    "            lagtype['MAJOR'], lagtype['MAJORMINOR'], lagtype['MAJORMICRO'], lagtype['MAJORMINORMICRO'],\n",
    "            lagtype[['MINOR','MINORMICRO']].sum(), lagtype['MINOR'], lagtype['MINORMICRO'],\n",
    "            lagtype['MICRO'], lagtype['MICRO']\n",
    "           ],\n",
    "    branchvalues=\"total\",\n",
    "))\n",
    "fig.update_layout(margin = dict(t=0, l=0, r=0, b=0))\n",
    "\n",
    "fig.show()"
   ]
  },
  {
   "cell_type": "markdown",
   "id": "71599633",
   "metadata": {},
   "source": [
    "# Update VS LAG \n",
    "        fixed declaration is the main cause of lag, we would study, do developers regulary update their declaration on the        fixed  pair of project, how regularly they update?, and do they change declaration to avoid from lag?\n",
    "        \n",
    "        Methode:\n",
    "            compare the declaration between two of pair of projects version contiguously release\n",
    "        "
   ]
  },
  {
   "cell_type": "code",
   "execution_count": 18,
   "id": "9ffe9faf",
   "metadata": {},
   "outputs": [
    {
     "name": "stdout",
     "output_type": "stream",
     "text": [
      "total of fixed dependencies in fixed pair: 300624\n"
     ]
    }
   ],
   "source": [
    "dependencies_df.set_index(['Project ID', 'Dependency Project ID'], inplace = True)\n",
    "fixed_df = dependencies_df.loc[FIXED_pairs]\n",
    "fixed_df.reset_index(inplace = True)\n",
    "fixed_df.sort_values(by =['Project ID', 'Dependency Project ID', 'Published Timestamp'], ascending= True, inplace = True)\n",
    "# fixed_df.set_index(['Project ID', 'Dependency Project ID'], inplace = True)\n",
    "print('total of fixed dependencies in fixed pair:', fixed_df.shape[0])"
   ]
  },
  {
   "cell_type": "code",
   "execution_count": 19,
   "id": "40e1474d",
   "metadata": {},
   "outputs": [],
   "source": [
    "def classifyDeclarationChange(ver1, ver2):\n",
    "    if ver2.major > ver1.major:\n",
    "        return 'FORWARDMAJOR'\n",
    "    elif ver2.major < ver1.major:\n",
    "        return 'BACKWARDMAJOR'\n",
    "    if ver2.minor > ver1.minor:\n",
    "        return 'FORWARDMINOR'\n",
    "    elif ver2.minor < ver1.minor:\n",
    "        return 'BACKWARDMINOR'\n",
    "    if ver2.micro > ver1.micro:\n",
    "        return 'FORWARDMICRO'\n",
    "    elif ver2.micro < ver1.micro:\n",
    "        return 'BACKWARDMICRO'\n",
    "    return  'NOCHANGE'\n"
   ]
  },
  {
   "cell_type": "code",
   "execution_count": 20,
   "id": "805c2def",
   "metadata": {},
   "outputs": [],
   "source": [
    "pair = (0, 0)\n",
    "last_dec = None\n",
    "last_version = None\n",
    "\n",
    "decChangeTypes = []\n",
    "projChangeTypes = []\n",
    "\n",
    "for r in fixed_df.to_dict('records'):\n",
    "    cur_dec = Version(r['Dependency Requirements'])\n",
    "    cur_version = Version(r['Version Number'])\n",
    "    if (r['Project ID'] != pair[0] or r['Dependency Project ID'] != pair[1]): # new pair\n",
    "        pair = (r['Project ID'], r['Dependency Project ID'])\n",
    "        last_dec = cur_dec\n",
    "        last_version = cur_version\n",
    "        decChangeTypes.append('NOCHANGE')\n",
    "        projChangeTypes.append('NOCHANGE')\n",
    "        continue\n",
    "    decChangeTypes.append(classifyDeclarationChange(last_dec, cur_dec))\n",
    "    projChangeTypes.append(classifyDeclarationChange(last_version, cur_version))\n",
    "    last_dec = cur_dec\n",
    "    last_version = cur_version\n",
    "    \n"
   ]
  },
  {
   "cell_type": "code",
   "execution_count": 21,
   "id": "cff71d48",
   "metadata": {},
   "outputs": [
    {
     "data": {
      "text/html": [
       "<div>\n",
       "<style scoped>\n",
       "    .dataframe tbody tr th:only-of-type {\n",
       "        vertical-align: middle;\n",
       "    }\n",
       "\n",
       "    .dataframe tbody tr th {\n",
       "        vertical-align: top;\n",
       "    }\n",
       "\n",
       "    .dataframe thead th {\n",
       "        text-align: right;\n",
       "    }\n",
       "</style>\n",
       "<table border=\"1\" class=\"dataframe\">\n",
       "  <thead>\n",
       "    <tr style=\"text-align: right;\">\n",
       "      <th></th>\n",
       "      <th>Project ID</th>\n",
       "      <th>Dependency Project ID</th>\n",
       "      <th>Project Name</th>\n",
       "      <th>Version Number</th>\n",
       "      <th>Dependency Name</th>\n",
       "      <th>Dependency Requirements</th>\n",
       "      <th>Published Timestamp</th>\n",
       "      <th>classification</th>\n",
       "      <th>lagtype</th>\n",
       "      <th>majorlag</th>\n",
       "      <th>minorlag</th>\n",
       "      <th>microlag</th>\n",
       "      <th>majortimelag</th>\n",
       "      <th>minortimelag</th>\n",
       "      <th>microtimelag</th>\n",
       "      <th>versionChange</th>\n",
       "      <th>declarationChange</th>\n",
       "    </tr>\n",
       "  </thead>\n",
       "  <tbody>\n",
       "    <tr>\n",
       "      <th>0</th>\n",
       "      <td>31620</td>\n",
       "      <td>66294</td>\n",
       "      <td>2mp4</td>\n",
       "      <td>0.1.5</td>\n",
       "      <td>progressbar</td>\n",
       "      <td>==2.2</td>\n",
       "      <td>2014-10-20 00:56:04 UTC</td>\n",
       "      <td>fixed</td>\n",
       "      <td>NOLAG</td>\n",
       "      <td>0</td>\n",
       "      <td>0</td>\n",
       "      <td>0</td>\n",
       "      <td>0</td>\n",
       "      <td>0</td>\n",
       "      <td>0</td>\n",
       "      <td>NOCHANGE</td>\n",
       "      <td>NOCHANGE</td>\n",
       "    </tr>\n",
       "    <tr>\n",
       "      <th>1</th>\n",
       "      <td>31620</td>\n",
       "      <td>66294</td>\n",
       "      <td>2mp4</td>\n",
       "      <td>0.1.5.1</td>\n",
       "      <td>progressbar</td>\n",
       "      <td>==2.2</td>\n",
       "      <td>2014-10-20 01:17:39 UTC</td>\n",
       "      <td>fixed</td>\n",
       "      <td>NOLAG</td>\n",
       "      <td>0</td>\n",
       "      <td>0</td>\n",
       "      <td>0</td>\n",
       "      <td>0</td>\n",
       "      <td>0</td>\n",
       "      <td>0</td>\n",
       "      <td>NOCHANGE</td>\n",
       "      <td>NOCHANGE</td>\n",
       "    </tr>\n",
       "    <tr>\n",
       "      <th>2</th>\n",
       "      <td>31792</td>\n",
       "      <td>1172727</td>\n",
       "      <td>adrest</td>\n",
       "      <td>2.1.12</td>\n",
       "      <td>python-mimeparse</td>\n",
       "      <td>==0.1.4</td>\n",
       "      <td>2013-04-26 08:19:04 UTC</td>\n",
       "      <td>fixed</td>\n",
       "      <td>NOLAG</td>\n",
       "      <td>0</td>\n",
       "      <td>0</td>\n",
       "      <td>0</td>\n",
       "      <td>0</td>\n",
       "      <td>0</td>\n",
       "      <td>0</td>\n",
       "      <td>NOCHANGE</td>\n",
       "      <td>NOCHANGE</td>\n",
       "    </tr>\n",
       "    <tr>\n",
       "      <th>3</th>\n",
       "      <td>31792</td>\n",
       "      <td>1172727</td>\n",
       "      <td>adrest</td>\n",
       "      <td>2.1.13</td>\n",
       "      <td>python-mimeparse</td>\n",
       "      <td>==0.1.4</td>\n",
       "      <td>2013-04-27 03:22:53 UTC</td>\n",
       "      <td>fixed</td>\n",
       "      <td>NOLAG</td>\n",
       "      <td>0</td>\n",
       "      <td>0</td>\n",
       "      <td>0</td>\n",
       "      <td>0</td>\n",
       "      <td>0</td>\n",
       "      <td>0</td>\n",
       "      <td>FORWARDMICRO</td>\n",
       "      <td>NOCHANGE</td>\n",
       "    </tr>\n",
       "    <tr>\n",
       "      <th>4</th>\n",
       "      <td>31792</td>\n",
       "      <td>1172727</td>\n",
       "      <td>adrest</td>\n",
       "      <td>2.1.14</td>\n",
       "      <td>python-mimeparse</td>\n",
       "      <td>==0.1.4</td>\n",
       "      <td>2013-04-27 05:49:39 UTC</td>\n",
       "      <td>fixed</td>\n",
       "      <td>NOLAG</td>\n",
       "      <td>0</td>\n",
       "      <td>0</td>\n",
       "      <td>0</td>\n",
       "      <td>0</td>\n",
       "      <td>0</td>\n",
       "      <td>0</td>\n",
       "      <td>FORWARDMICRO</td>\n",
       "      <td>NOCHANGE</td>\n",
       "    </tr>\n",
       "  </tbody>\n",
       "</table>\n",
       "</div>"
      ],
      "text/plain": [
       "   Project ID  Dependency Project ID Project Name Version Number  \\\n",
       "0       31620                  66294         2mp4          0.1.5   \n",
       "1       31620                  66294         2mp4        0.1.5.1   \n",
       "2       31792                1172727       adrest         2.1.12   \n",
       "3       31792                1172727       adrest         2.1.13   \n",
       "4       31792                1172727       adrest         2.1.14   \n",
       "\n",
       "    Dependency Name Dependency Requirements      Published Timestamp  \\\n",
       "0       progressbar                   ==2.2  2014-10-20 00:56:04 UTC   \n",
       "1       progressbar                   ==2.2  2014-10-20 01:17:39 UTC   \n",
       "2  python-mimeparse                 ==0.1.4  2013-04-26 08:19:04 UTC   \n",
       "3  python-mimeparse                 ==0.1.4  2013-04-27 03:22:53 UTC   \n",
       "4  python-mimeparse                 ==0.1.4  2013-04-27 05:49:39 UTC   \n",
       "\n",
       "  classification lagtype  majorlag  minorlag  microlag  majortimelag  \\\n",
       "0          fixed   NOLAG         0         0         0             0   \n",
       "1          fixed   NOLAG         0         0         0             0   \n",
       "2          fixed   NOLAG         0         0         0             0   \n",
       "3          fixed   NOLAG         0         0         0             0   \n",
       "4          fixed   NOLAG         0         0         0             0   \n",
       "\n",
       "   minortimelag  microtimelag versionChange declarationChange  \n",
       "0             0             0      NOCHANGE          NOCHANGE  \n",
       "1             0             0      NOCHANGE          NOCHANGE  \n",
       "2             0             0      NOCHANGE          NOCHANGE  \n",
       "3             0             0  FORWARDMICRO          NOCHANGE  \n",
       "4             0             0  FORWARDMICRO          NOCHANGE  "
      ]
     },
     "execution_count": 21,
     "metadata": {},
     "output_type": "execute_result"
    }
   ],
   "source": [
    "fixed_df['versionChange'] = projChangeTypes\n",
    "fixed_df['declarationChange'] = decChangeTypes\n",
    "updateVsLag = fixed_df.groupby(['declarationChange', 'lagtype']).count()\n",
    "updateVsLag = updateVsLag['Project ID']\n",
    "fixed_df.head()"
   ]
  },
  {
   "cell_type": "code",
   "execution_count": 22,
   "id": "36fbeaea",
   "metadata": {},
   "outputs": [
    {
     "name": "stdout",
     "output_type": "stream",
     "text": [
      "Update vs Lag\n",
      "╒══════════════════════╤════════════════════════╤═════════════════════╤═══════════════════════╕\n",
      "│   Updated & Outdated │   No Update & Outdated │   Updated & Current │   No Update & Current │\n",
      "╞══════════════════════╪════════════════════════╪═════════════════════╪═══════════════════════╡\n",
      "│                  0.6 │                   47.8 │                 1.6 │                    50 │\n",
      "╘══════════════════════╧════════════════════════╧═════════════════════╧═══════════════════════╛\n",
      "Update vs Lag (allow major lag as current)\n",
      "╒══════════════════════╤════════════════════════╤═════════════════════╤═══════════════════════╕\n",
      "│   Updated & Outdated │   No Update & Outdated │   Updated & Current │   No Update & Current │\n",
      "╞══════════════════════╪════════════════════════╪═════════════════════╪═══════════════════════╡\n",
      "│                  0.5 │                   35.7 │                 1.7 │                    62 │\n",
      "╘══════════════════════╧════════════════════════╧═════════════════════╧═══════════════════════╛\n"
     ]
    }
   ],
   "source": [
    "LAG = ['MAJOR', 'MAJORMICRO', 'MAJORMINOR', 'MAJORMINORMICRO', 'MICRO', 'MINOR', 'MINORMICRO']\n",
    "LAG_MAJOR_CURENT = ['MICRO', 'MINOR', 'MINORMICRO']\n",
    "MAJOR_CURENT = ['MAJOR', 'MAJORMICRO', 'MAJORMINOR', 'MAJORMINORMICRO', 'NOLAG']\n",
    "UPDATE = ['BACKWARDMAJOR', 'BACKWARDMINOR', 'BACKWARDMICRO','FORWARDMAJOR','FORWARDMICRO','FORWARDMINOR']\n",
    "\n",
    "\n",
    "total = updateVsLag.sum()\n",
    "print('Update vs Lag')\n",
    "print(tabulate([\n",
    "    ['Updated & Outdated', 'No Update & Outdated', 'Updated & Current', 'No Update & Current'],\n",
    "    [\"{:.1f}\".format(updateVsLag.drop(labels = 'NOCHANGE',errors = 'ignore').drop(labels = 'NOLAG' , level = 1,errors = 'ignore').sum()/total *100),\n",
    "     \"{:.1f}\".format(updateVsLag.drop(labels = UPDATE ,errors = 'ignore').drop(labels = 'NOLAG' , level = 1,errors = 'ignore').sum()/total *100),\n",
    "     \"{:.1f}\".format(updateVsLag.drop(labels = 'NOCHANGE',errors = 'ignore').drop(labels = LAG , level = 1,errors = 'ignore').sum()/total *100),\n",
    "     \"{:.1f}\".format(updateVsLag.drop(labels = UPDATE,errors = 'ignore').drop(labels = LAG , level = 1,errors = 'ignore').sum()/total *100)\n",
    "    ]\n",
    "], headers = 'firstrow', tablefmt= 'fancy_grid'))\n",
    "\n",
    "print('Update vs Lag (allow major lag as current)')\n",
    "print(tabulate([\n",
    "    ['Updated & Outdated', 'No Update & Outdated', 'Updated & Current', 'No Update & Current'],\n",
    "    [\"{:.1f}\".format(updateVsLag.drop(labels = 'NOCHANGE',errors = 'ignore').drop(labels = MAJOR_CURENT , level = 1,errors = 'ignore').sum()/total *100),\n",
    "     \"{:.1f}\".format(updateVsLag.drop(labels = UPDATE ,errors = 'ignore').drop(labels = MAJOR_CURENT , level = 1,errors = 'ignore').sum()/total *100),\n",
    "     \"{:.1f}\".format(updateVsLag.drop(labels = 'NOCHANGE',errors = 'ignore').drop(labels = LAG_MAJOR_CURENT , level = 1,errors = 'ignore').sum()/total *100),\n",
    "     \"{:.1f}\".format(updateVsLag.drop(labels = UPDATE,errors = 'ignore').drop(labels = LAG_MAJOR_CURENT , level = 1,errors = 'ignore').sum()/total *100)\n",
    "    ]\n",
    "], headers = 'firstrow', tablefmt= 'fancy_grid'))"
   ]
  }
 ],
 "metadata": {
  "kernelspec": {
   "display_name": "Python 3",
   "language": "python",
   "name": "python3"
  },
  "language_info": {
   "codemirror_mode": {
    "name": "ipython",
    "version": 3
   },
   "file_extension": ".py",
   "mimetype": "text/x-python",
   "name": "python",
   "nbconvert_exporter": "python",
   "pygments_lexer": "ipython3",
   "version": "3.8.10"
  }
 },
 "nbformat": 4,
 "nbformat_minor": 5
}
